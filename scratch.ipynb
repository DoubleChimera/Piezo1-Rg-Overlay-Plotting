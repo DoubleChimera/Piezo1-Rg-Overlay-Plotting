{
 "cells": [
  {
   "cell_type": "markdown",
   "metadata": {},
   "source": [
    "# Normed Rg plotter script\n",
    "#### Updated: Converted to jupyter notebook instead of standalone Python script, no longer need to pickle data or make extra files"
   ]
  },
  {
   "cell_type": "markdown",
   "metadata": {},
   "source": [
    "## Load libraries and functions"
   ]
  },
  {
   "cell_type": "code",
   "execution_count": 74,
   "metadata": {},
   "outputs": [],
   "source": [
    "# Import libraries\n",
    "import flika_JSON_IO as flikaIO\n",
    "import feature_calculator as fcalc\n",
    "import math\n",
    "import matplotlib as mpl\n",
    "import matplotlib.pyplot as plt\n",
    "import matplotlib.colors as colors\n",
    "import matplotlib.cm as cmx\n",
    "import numpy as np\n",
    "import pandas as pd\n",
    "from pathlib import Path\n",
    "from PIL import Image"
   ]
  },
  {
   "cell_type": "markdown",
   "metadata": {},
   "source": [
    "## Pre-load relevant functions"
   ]
  },
  {
   "cell_type": "code",
   "execution_count": 75,
   "metadata": {},
   "outputs": [],
   "source": [
    "# Load and prep data\n",
    "def prep_flika_normed_Rg_data(main_dir, json_file, frame_cutoff):\n",
    "    \"\"\"Generates a dataframe of trajectory data with Rg, and normed_Rg\n",
    "\n",
    "    Args:\n",
    "        main_dir (string or Path object): a string or pathlib.Path() object directed to the working directory\n",
    "        json_file (string): the name, including extension, of the json file to process\n",
    "        frame_cutoff (int): the number of frames at which to apply a cutoff\n",
    "\n",
    "    Returns:\n",
    "        pandas.DataFrame(): dataframe with trajectory positional data in microns, Rg, and normed_Rg\n",
    "                            Rg is the radius of gyration\n",
    "                            normed_Rg is Rg divided by the mean step length\n",
    "    \"\"\"\n",
    "    # make the path a pathlib.Path() object\n",
    "    path_json = Path(main_dir) / json_file\n",
    "    # converts json file to dataframe with tracks equal to or longer than cutoff value\n",
    "    json_tracks = flikaIO.json_to_pandas(str(path_json), path_json.stem, frame_cutoff)\n",
    "    # trim all tracks to be exactly the length of the cutoff and no more\n",
    "    json_tracks = json_tracks.loc[json_tracks[\"Frame\"] <= 50]\n",
    "    # cast the correct data types, ID should be int not float\n",
    "    json_tracks[\"ID\"] = json_tracks[\"ID\"].astype(int)\n",
    "    # adjust tracks from pixel units to microns\n",
    "    json_tracks[[\"X\", \"Y\"]] *= 0.1092\n",
    "    # calc Rg up to the last frame for each of the tracks\n",
    "    Rg_lastFrame = fcalc.radGyr_lastFrame(json_tracks)\n",
    "    # setup new, blank colummns in track dataframe for the Rg data\n",
    "    json_tracks[\"Rg\"] = np.nan\n",
    "    json_tracks[\"normed_Rg\"] = np.nan\n",
    "    # process Rg and normed_Rg for each track\n",
    "    for trackID in np.arange(0, len(Rg_lastFrame), 1):\n",
    "        # insert the Rg data into the dataframe\n",
    "        json_tracks.loc[json_tracks.ID == trackID, \"Rg\"] = Rg_lastFrame[trackID]\n",
    "        # grab an individual track\n",
    "        json_track = json_tracks.loc[json_tracks.ID == trackID][[\"X\", \"Y\"]].dropna().copy()\n",
    "        # calc mean step length of individual track\n",
    "        mean_step_length = np.linalg.norm(json_track[[\"X\", \"Y\"]].iloc[0:-1].values-json_track[[\"X\", \"Y\"]].iloc[1:].values, axis=1).mean()\n",
    "        # insert normed_Rg data into the dataframe\n",
    "        json_tracks.loc[json_tracks.ID == trackID, \"normed_Rg\"] = Rg_lastFrame[trackID] / mean_step_length\n",
    "    return json_tracks\n",
    "\n",
    "# Plotting function\n",
    "def plot_normed_rg(working_dir, working_tiff_file, tiff_index, normed_Rg_data, save_plot_dir=None):\n",
    "    \"\"\"Plots the trajectory on top of the cell image and colors tracks based on normed_Rg\n",
    "\n",
    "    Args:\n",
    "        working_dir (string or Path object): path to the working directory\n",
    "        working_tiff_file (string): the name, including extension, of the tiff file to process\n",
    "        tiff_index (int): the 0-index-based position of the image in the stack of tiff images\n",
    "        normed_Rg_data (pandas.DataFrame): dataframe with trajectory and normed_Rg data\n",
    "        save_plot_dir (string or Path object, optional): path to output directory for plot. Defaults to None which means plot won't be saved.\n",
    "    \"\"\"\n",
    "    pd.set_option('display.precision', 16)\n",
    "    path_tiff = Path(working_dir) / working_tiff_file\n",
    "    # load the tiff stack\n",
    "    imStack = Image.open(path_tiff)\n",
    "    imStack.load()\n",
    "    # extract the dic frame and make a copy\n",
    "    imStack.seek(tiff_index)\n",
    "    img_dic = imStack.copy()\n",
    "    # gather the normed_Rg and range of data\n",
    "    normed_Rgs = list(normed_Rg_data.groupby(\"ID\")[\"normed_Rg\"].mean())\n",
    "    Rg_max = max(normed_Rgs)\n",
    "    Rg_min = min(normed_Rgs)\n",
    "    # set the colorbar color palette\n",
    "    cm = plt.get_cmap('jet')\n",
    "    # autoscale the colorbar for the plotted tracks\n",
    "    cNorm  = colors.Normalize(vmin=math.floor(Rg_min), vmax=math.ceil(Rg_max))\n",
    "    # manually scale the colorbar for the plotted tracks\n",
    "    cNorm  = colors.Normalize(vmin=0, vmax=15)\n",
    "    scalarMap = cmx.ScalarMappable(norm=cNorm, cmap=cm)\n",
    "    # set up the plot based on the pixel size of the image   \n",
    "    subplot_kw = dict(xlim=(0, 1024), ylim=(1024, 0), autoscale_on=False)\n",
    "    fig, axes = plt.subplots(1, 1, subplot_kw=subplot_kw, figsize=(10, 7))\n",
    "    # plot the TIRFM image\n",
    "    axes.imshow(img_dic, cmap=plt.get_cmap('gray'))\n",
    "    # plot the tracks on top of the image\n",
    "    trackID_list = list(normed_Rg_data.ID.unique())\n",
    "    for trackID in trackID_list:\n",
    "        track_Rg = normed_Rgs[trackID]\n",
    "        indivTrack_df = normed_Rg_data.loc[normed_Rg_data['ID'] == trackID, ['X', 'Y']]\n",
    "        colorValue = scalarMap.to_rgba(track_Rg)\n",
    "        plt.plot(indivTrack_df.X, indivTrack_df.Y, color=colorValue, linewidth=1)\n",
    "    totalTracks = len(normed_Rgs)\n",
    "    # adjust position and details of color bar\n",
    "    cbax = fig.add_axes([0.85, 0.12, 0.05, 0.78])\n",
    "    cb = mpl.colorbar.ColorbarBase(cbax, cmap=cm, norm=cNorm, orientation='vertical')\n",
    "    cb.set_label(\"Normed Rg Values\", rotation=270, labelpad=15, fontsize=14)\n",
    "    # autoscale the legend colorbar\n",
    "    colorbar_Side = np.arange(math.floor(Rg_min), math.ceil(Rg_max)+1, 1)\n",
    "    # manually scale the legend colorbar\n",
    "    colorbar_Side = np.arange(0, 16, 1)\n",
    "    cb.set_ticks(colorbar_Side)\n",
    "    # set all the plot labels\n",
    "    plt.suptitle(f'{path_tiff.stem}')\n",
    "    plt.title(f'Total Tracks: {totalTracks}')\n",
    "    # clean up the layout before display or saving\n",
    "    fig.tight_layout(rect=[0, 0, 1, .95])\n",
    "    if save_plot_dir:\n",
    "        plt.savefig(save_plot_dir + path_tiff.stem + '_normed_Rg-Overlay.png', bbox_inches='tight')\n",
    "    plt.show()"
   ]
  },
  {
   "cell_type": "markdown",
   "metadata": {},
   "source": [
    "## User Inputs"
   ]
  },
  {
   "cell_type": "code",
   "execution_count": 76,
   "metadata": {},
   "outputs": [],
   "source": [
    "# User inputs\n",
    "\n",
    "# Directory with json and tiff file in it\n",
    "working_dir = r\"C:\\Users\\User\\OneDrive\\Documents\\Python Programs\\Piezo1-Rg-Overlay-Plotting\\JSON_example_file\"\n",
    "# Name of current json file to use\n",
    "working_json_file = \"GB_221_Halo_B2.json\"\n",
    "# Name of corresponding tiff file\n",
    "working_tiff_file = \"\"\n",
    "# Index of tiff file image to use\n",
    "tiff_index = 0\n",
    "# Frame cutoff value\n",
    "min_frm = 50\n",
    "\n",
    "# If you include a directory as an argument, the plot will be saved there\n",
    "output_plots_dir = None"
   ]
  },
  {
   "cell_type": "code",
   "execution_count": 77,
   "metadata": {},
   "outputs": [],
   "source": [
    "tester = prep_flika_normed_Rg_data(working_dir, working_json_file, min_frm)"
   ]
  },
  {
   "cell_type": "code",
   "execution_count": 78,
   "metadata": {},
   "outputs": [
    {
     "data": {
      "text/plain": [
       "<AxesSubplot:>"
      ]
     },
     "execution_count": 78,
     "metadata": {},
     "output_type": "execute_result"
    },
    {
     "data": {
      "image/png": "[encoded data removed]",
      "text/plain": [
       "<Figure size 432x288 with 1 Axes>"
      ]
     },
     "metadata": {
      "needs_background": "light"
     },
     "output_type": "display_data"
    }
   ],
   "source": [
    "tester.normed_Rg.hist()"
   ]
  },
  {
   "cell_type": "markdown",
   "metadata": {},
   "source": [
    "## Plotting"
   ]
  },
  {
   "cell_type": "code",
   "execution_count": null,
   "metadata": {},
   "outputs": [],
   "source": []
  },
  {
   "cell_type": "markdown",
   "metadata": {},
   "source": [
    "## Testing & Troubleshooting"
   ]
  },
  {
   "cell_type": "code",
   "execution_count": null,
   "metadata": {},
   "outputs": [],
   "source": []
  }
 ],
 "metadata": {
  "kernelspec": {
   "display_name": "Python 3.8.12 ('base')",
   "language": "python",
   "name": "python3"
  },
  "language_info": {
   "codemirror_mode": {
    "name": "ipython",
    "version": 3
   },
   "file_extension": ".py",
   "mimetype": "text/x-python",
   "name": "python",
   "nbconvert_exporter": "python",
   "pygments_lexer": "ipython3",
   "version": "3.8.12"
  },
  "orig_nbformat": 4,
  "vscode": {
   "interpreter": {
    "hash": "ad2bdc8ecc057115af97d19610ffacc2b4e99fae6737bb82f5d7fb13d2f2c186"
   }
  }
 },
 "nbformat": 4,
 "nbformat_minor": 2
}
