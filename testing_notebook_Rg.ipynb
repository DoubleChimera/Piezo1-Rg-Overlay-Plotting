{
 "cells": [
  {
   "cell_type": "code",
   "execution_count": 54,
   "metadata": {},
   "outputs": [],
   "source": [
    "import flika_JSON_IO as flikaIO\n",
    "import feature_calculator as fcalc\n",
    "import numpy as np\n",
    "import os\n",
    "import pandas as pd\n",
    "import pickle"
   ]
  },
  {
   "cell_type": "code",
   "execution_count": 55,
   "metadata": {},
   "outputs": [],
   "source": [
    "working_dir = r'/home/vivek/Tobias_Group/Piezo1/HaloTag_Gabby/Track_Stats_July9/yoda1_greyscale_overlays/yoda1_2uM/yoda1_2uM_treated/242_WT_HaloKera_A_Y1_4/'\n",
    "working_file = 'GB_tracks_threshold5_242_2020_06_23_HaloTag_Kera_A_Y1_4_1.json'\n",
    "experiment_name = 'GB_242_Halo_A_Y1_4'\n",
    "minfrm = 200\n",
    "filePath = os.path.join(working_dir, working_file)"
   ]
  },
  {
   "cell_type": "code",
   "execution_count": 56,
   "metadata": {
    "tags": []
   },
   "outputs": [],
   "source": [
    "flika_tracks = flikaIO.json_to_pandas(filePath, experiment_name, minfrm)\n",
    "flika_tracks['ID'] = flika_tracks['ID'].astype(int)"
   ]
  },
  {
   "cell_type": "code",
   "execution_count": 57,
   "metadata": {
    "tags": []
   },
   "outputs": [],
   "source": [
    "minMax_200F_df = flika_tracks.loc[flika_tracks['Frame'] <= 199]"
   ]
  },
  {
   "cell_type": "code",
   "execution_count": 58,
   "metadata": {
    "tags": []
   },
   "outputs": [],
   "source": [
    "min_200F_Rg = fcalc.radGyr_lastFrame(flika_tracks)\n",
    "for trackID in np.arange(0, len(min_200F_Rg), 1):\n",
    "    flika_tracks.loc[flika_tracks.ID == trackID, 'Rg'] = min_200F_Rg[trackID]\n",
    "\n",
    "minMax_200F_Rg = fcalc.radGyr_lastFrame(minMax_200F_df)\n",
    "for trackID in np.arange(0, len(minMax_200F_Rg), 1):\n",
    "    minMax_200F_df.loc[minMax_200F_df.ID == trackID, 'Rg'] = minMax_200F_Rg[trackID]"
   ]
  },
  {
   "cell_type": "code",
   "execution_count": 59,
   "metadata": {
    "tags": []
   },
   "outputs": [],
   "source": [
    "Rg_vals = {'min_200F': min_200F_Rg, 'minMax_200F': minMax_200F_Rg}\n",
    "Rg_compare_df = pd.DataFrame(Rg_vals)"
   ]
  },
  {
   "cell_type": "code",
   "execution_count": 60,
   "metadata": {},
   "outputs": [],
   "source": [
    "flika_tracks.to_pickle(os.path.join(working_dir, experiment_name + '_G200F.pkl'))\n",
    "minMax_200F_df.to_pickle(os.path.join(working_dir, experiment_name + '_uptoFrame200.pkl'))"
   ]
  },
  {
   "cell_type": "code",
   "execution_count": null,
   "metadata": {},
   "outputs": [],
   "source": []
  }
 ],
 "metadata": {
  "language_info": {
   "codemirror_mode": {
    "name": "ipython",
    "version": 3
   },
   "file_extension": ".py",
   "mimetype": "text/x-python",
   "name": "python",
   "nbconvert_exporter": "python",
   "pygments_lexer": "ipython3",
   "version": "3.8.2-final"
  },
  "orig_nbformat": 2,
  "kernelspec": {
   "name": "python38264bitpiezo1mlcondaa3aee66bb733452987ace2ba61fe59f3",
   "display_name": "Python 3.8.2 64-bit ('piezo1_ML': conda)"
  }
 },
 "nbformat": 4,
 "nbformat_minor": 2
}