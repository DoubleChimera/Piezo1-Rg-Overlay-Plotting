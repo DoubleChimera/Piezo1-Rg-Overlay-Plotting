{
 "cells": [
  {
   "cell_type": "code",
   "execution_count": null,
   "metadata": {},
   "outputs": [],
   "source": [
    "import flika_JSON_IO as flikaIO\n",
    "import feature_calculator as fcalc\n",
    "import numpy as np\n",
    "import os\n",
    "import pandas as pd"
   ]
  },
  {
   "cell_type": "code",
   "execution_count": null,
   "metadata": {},
   "outputs": [],
   "source": [
    "working_dir = r'/home/vivek/Documents/Python Programs/piezo1/Piezo1_Rg_Overlays/JSON_example_file/'\n",
    "working_file = 'GB_221_Halo_B2.json'\n",
    "experiment_name = 'GB_221_Halo_B2'\n",
    "minfrm = 200\n",
    "filePath = os.path.join(working_dir, working_file)"
   ]
  },
  {
   "cell_type": "code",
   "execution_count": null,
   "metadata": {
    "tags": []
   },
   "outputs": [],
   "source": [
    "GB_221_B2_tracks = flikaIO.json_to_pandas(filePath, experiment_name, minfrm)\n",
    "GB_221_B2_tracks['ID'] = GB_221_B2_tracks['ID'].astype(int)"
   ]
  },
  {
   "cell_type": "code",
   "execution_count": null,
   "metadata": {
    "tags": []
   },
   "outputs": [],
   "source": [
    "print(GB_221_B2_tracks.loc[(GB_221_B2_tracks['ID'] == 0) & (GB_221_B2_tracks['Frame'] <= 2)][['X', 'Y']])"
   ]
  },
  {
   "cell_type": "code",
   "execution_count": null,
   "metadata": {},
   "outputs": [],
   "source": [
    "Rg_lastFrame = fcalc.radGyr_lastFrame(GB_221_B2_tracks)"
   ]
  },
  {
   "cell_type": "code",
   "execution_count": null,
   "metadata": {
    "tags": []
   },
   "outputs": [],
   "source": [
    "print(Rg_lastFrame)"
   ]
  },
  {
   "cell_type": "code",
   "execution_count": null,
   "metadata": {
    "tags": []
   },
   "outputs": [],
   "source": [
    "print(GB_221_B2_tracks)"
   ]
  },
  {
   "cell_type": "code",
   "execution_count": null,
   "metadata": {
    "tags": []
   },
   "outputs": [],
   "source": [
    "GB_221_B2_tracks['Rg'] = np.nan\n",
    "for trackID in np.arange(0, len(Rg_lastFrame), 1):\n",
    "    GB_221_B2_tracks.loc[GB_221_B2_tracks.ID == trackID, 'Rg'] = Rg_lastFrame[trackID]\n",
    "print(GB_221_B2_tracks)"
   ]
  },
  {
   "cell_type": "code",
   "execution_count": null,
   "metadata": {},
   "outputs": [],
   "source": []
  }
 ],
 "metadata": {
  "language_info": {
   "codemirror_mode": {
    "name": "ipython",
    "version": 3
   },
   "file_extension": ".py",
   "mimetype": "text/x-python",
   "name": "python",
   "nbconvert_exporter": "python",
   "pygments_lexer": "ipython3",
   "version": "3.8.2-final"
  },
  "orig_nbformat": 2,
  "kernelspec": {
   "name": "python38264bitpiezo1mlcondaa3aee66bb733452987ace2ba61fe59f3",
   "display_name": "Python 3.8.2 64-bit ('piezo1_ML': conda)"
  }
 },
 "nbformat": 4,
 "nbformat_minor": 2
}