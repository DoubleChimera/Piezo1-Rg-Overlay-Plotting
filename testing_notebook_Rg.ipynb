{
 "cells": [
  {
   "cell_type": "code",
   "execution_count": 14,
   "metadata": {},
   "outputs": [],
   "source": [
    "import numpy as np\n",
    "import pandas as pd\n",
    "import codecs, json\n",
    "from pathlib import Path\n",
    "import h5py, pickle\n",
    "import seaborn as sns\n",
    "import matplotlib as mpl\n",
    "import matplotlib.pyplot as plt"
   ]
  },
  {
   "cell_type": "code",
   "execution_count": 15,
   "metadata": {
    "tags": []
   },
   "outputs": [],
   "source": [
    "# Loop over each track and check if it is greater than 200 frames in length\n",
    "filename = Path('/home/vivek/Tobias_Group/Piezo1/HaloTag_Gabby/Track_Intensities_troubleshooting/AL_55_2020-06-29-TIRFM_Diff_tdt-MEFs_B_4_trackintensities_v2.json')\n",
    "# Setup the directory where you want your output plots to go\n",
    "output_plot_directory = \"/home/vivek/Tobias_Group/Presentations/2021 AUG 2 Piezo1 Intensity Output Test/\"\n",
    "\n",
    "# Probably dont have to change anything below this in this cell.\n",
    "frame_cutoff = 200\n",
    "obj_text = codecs.open(filename, \"r\", encoding=\"utf-8\").read()\n",
    "pts = json.loads(obj_text)\n",
    "txy_pts = np.array(pts[\"txy_pts\"])\n",
    "tracks = [np.array(track) for track in pts[\"tracks\"]]\n",
    "txy_intensities = np.array(pts[\"txy_intensities\"])\n",
    "txyi_pts = pd.DataFrame(columns=['TrackID', 'Frame', 'X', 'Y', 'Intensity'])\n",
    "for trackIndex, _ in enumerate(tracks):\n",
    "    track = tracks[trackIndex]\n",
    "    pts = txy_pts[track, :]\n",
    "    if len(pts) >= frame_cutoff:\n",
    "        intensity = txy_intensities[track]\n",
    "        indivTrack = pd.DataFrame(pts, columns=['Frame', 'X', 'Y'])\n",
    "        indivTrack['Intensity'] = intensity\n",
    "        indivTrack['TrackID'] = trackIndex\n",
    "        txyi_pts = pd.concat([txyi_pts, indivTrack])\n",
    "    \n",
    "# Adjust Frame values to be Time\n",
    "txyi_pts.Frame *= 0.100\n",
    "txyi_pts.rename(columns={'Frame': 'Time'}, inplace=True)"
   ]
  },
  {
   "cell_type": "code",
   "execution_count": 16,
   "metadata": {},
   "outputs": [],
   "source": [
    "# Define our plotting function, should be nothing to change here, just run the cell\n",
    "def plot_v2(data, minMax=[]):\n",
    "    # Make two subplots\n",
    "    fig, axes = plt.subplots(nrows=1, ncols=2, figsize=([10, 5]))\n",
    "    # Create the intensity line plot\n",
    "    g = sns.lineplot(\n",
    "        x=\"Time\", y=\"Intensity\",\n",
    "        data=data, linewidth=2, label=f'Track: {data.TrackID[0]}\\nLength: {len(data)}',\n",
    "        ax=axes[0])\n",
    "    if minMax != []:\n",
    "        axes[0].set_ylim(minMax)\n",
    "    axes[0].set_xlim([-5, 65])\n",
    "    axes[0].set_title('Intensity over Time')\n",
    "    # Create the trajectory plot to localize the track in the video\n",
    "    g1 = sns.lineplot(\n",
    "        x=\"X\", y=\"Y\",\n",
    "        data=data, linewidth=5, label=f'Track: {data.TrackID[0]}\\nLength: {len(data)}',\n",
    "        ax=axes[1])\n",
    "    # The below two lines set the limits for the right hand plot (trajectory), commenting them out makes it autoscale\n",
    "    # axes[1].set_xlim([0, 1023])\n",
    "    # axes[1].set_ylim([0, 1023])\n",
    "    axes[1].set_title('Position in Video')\n",
    "    return plt.gcf(), axes"
   ]
  },
  {
   "cell_type": "code",
   "execution_count": 17,
   "metadata": {
    "tags": []
   },
   "outputs": [],
   "source": [
    "trackIDList = txyi_pts.TrackID.unique()\n",
    "# The below three lines determine the ymin and ymax for the intensity plot based on ALL trajectories. Since we want it to scale for EACH trajectory, we have to do this differently, so they are commented out\n",
    "# yMaxVal = int(txyi_pts.Intensity.max()*1.10)\n",
    "# yMinVal = int(txyi_pts.Intensity.min()*0.90)\n",
    "# yaxisMinMax = [yMinVal, yMaxVal]\n",
    "for eachTrackID in trackIDList:\n",
    "    # Here we select an individual track, so after this we can get the intensity value for it\n",
    "    indivTrack = txyi_pts.loc[txyi_pts['TrackID'] == eachTrackID]\n",
    "    # Here we grab the min max intensity values for a single track and scale it a little to add some padding, you can adjust the padding by changing the number at the end\n",
    "    yMaxVal = int(indivTrack.Intensity.max()*1.10) # The last number here is the vertical top padding, which is 10% above the max value as the default 1.10\n",
    "    yMinVal = int(indivTrack.Intensity.min()*0.90) # The last number here is the vertical bottom padding, which is 10% below the min value as the default 0.90\n",
    "    yaxisMinMax = [yMinVal, yMaxVal]\n",
    "    plot_v2(indivTrack, yaxisMinMax)\n",
    "    # The following lines setup the name of the output file as the filename plus the TrackID\n",
    "    outfile = Path(output_plot_directory) / f\"{filename.stem}_TrackID{eachTrackID}.png\"\n",
    "    plt.savefig(outfile, bbox_inches=\"tight\")\n",
    "    plt.close()\n",
    "    \n",
    "    "
   ]
  },
  {
   "cell_type": "code",
   "execution_count": null,
   "metadata": {},
   "outputs": [],
   "source": []
  }
 ],
 "metadata": {
  "kernelspec": {
   "display_name": "Python 3.8.12 ('base')",
   "language": "python",
   "name": "python3"
  },
  "language_info": {
   "codemirror_mode": {
    "name": "ipython",
    "version": 3
   },
   "file_extension": ".py",
   "mimetype": "text/x-python",
   "name": "python",
   "nbconvert_exporter": "python",
   "pygments_lexer": "ipython3",
   "version": "3.8.12"
  },
  "orig_nbformat": 2,
  "vscode": {
   "interpreter": {
    "hash": "ad2bdc8ecc057115af97d19610ffacc2b4e99fae6737bb82f5d7fb13d2f2c186"
   }
  }
 },
 "nbformat": 4,
 "nbformat_minor": 2
}
